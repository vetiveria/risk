{
 "cells": [
  {
   "cell_type": "markdown",
   "metadata": {
    "id": "ivsRnOksn6gh"
   },
   "source": [
    "## Preliminaries"
   ]
  },
  {
   "cell_type": "markdown",
   "metadata": {
    "id": "iWKETBqmmfBP"
   },
   "source": [
    "### Libraries"
   ]
  },
  {
   "cell_type": "code",
   "execution_count": 1,
   "metadata": {
    "id": "qU4eRx6fmaWj"
   },
   "outputs": [],
   "source": [
    "import pyodbc\n",
    "import logging\n",
    "\n",
    "import pandas as pd\n",
    "\n",
    "import os\n",
    "import pathlib\n",
    "import sys"
   ]
  },
  {
   "cell_type": "code",
   "execution_count": 10,
   "metadata": {},
   "outputs": [],
   "source": [
    "import pandas as pd"
   ]
  },
  {
   "cell_type": "markdown",
   "metadata": {
    "id": "rHOdNcB8rHtU"
   },
   "source": [
    "<br>\n",
    "\n",
    "### Logging"
   ]
  },
  {
   "cell_type": "code",
   "execution_count": 2,
   "metadata": {
    "id": "TjqbfEY6rNMZ"
   },
   "outputs": [],
   "source": [
    "logging.basicConfig(level=logging.INFO, format='%(message)s\\n%(asctime)s.%(msecs)03d', datefmt='%Y-%m-%d %H:%M:%S')\n",
    "logger = logging.getLogger(__name__)"
   ]
  },
  {
   "cell_type": "markdown",
   "metadata": {},
   "source": [
    "<br>\n",
    "\n",
    "### Paths"
   ]
  },
  {
   "cell_type": "code",
   "execution_count": 3,
   "metadata": {},
   "outputs": [
    {
     "name": "stderr",
     "output_type": "stream",
     "text": [
      "\n",
      "J:\\library\\explorations\\risk\\notebooks\n",
      "J:\\library\\explorations\\risk\n",
      "2021-04-10 18:27:34.434\n"
     ]
    }
   ],
   "source": [
    "child = os.getcwd()\n",
    "parent = str(pathlib.Path(child).parent)\n",
    "\n",
    "logger.info('\\n{}\\n{}'.format(child, parent))"
   ]
  },
  {
   "cell_type": "markdown",
   "metadata": {
    "id": "AnGRwWkhn-Je"
   },
   "source": [
    "<br>\n",
    "<br>\n",
    "\n",
    "## Explore"
   ]
  },
  {
   "cell_type": "code",
   "execution_count": 4,
   "metadata": {},
   "outputs": [],
   "source": [
    "database = os.path.join(child, 'data', '1_2-Epoxybutane.mdb')"
   ]
  },
  {
   "cell_type": "code",
   "execution_count": 5,
   "metadata": {
    "id": "o4EbjLCroHsi"
   },
   "outputs": [],
   "source": [
    "arguments = ('DRIVER={{Microsoft Access Driver (*.mdb, *.accdb)}};DBQ={database};'.format(database=database))"
   ]
  },
  {
   "cell_type": "code",
   "execution_count": 6,
   "metadata": {
    "id": "SLFi22WUqjTO"
   },
   "outputs": [],
   "source": [
    "connection = pyodbc.connect(arguments)"
   ]
  },
  {
   "cell_type": "markdown",
   "metadata": {},
   "source": [
    "<br>\n",
    "\n",
    "**Tables**"
   ]
  },
  {
   "cell_type": "code",
   "execution_count": 7,
   "metadata": {
    "id": "hy1SKJsrqrz8"
   },
   "outputs": [],
   "source": [
    "cursor = connection.cursor()"
   ]
  },
  {
   "cell_type": "code",
   "execution_count": 8,
   "metadata": {
    "id": "Pt7DHDMqq1Ef"
   },
   "outputs": [
    {
     "name": "stderr",
     "output_type": "stream",
     "text": [
      "Ambient Concentration (ug/m3)\n",
      "2021-04-10 18:27:55.806\n",
      "Cancer Risk (in a million)\n",
      "2021-04-10 18:27:55.806\n",
      "Exposure Concentration (ug/m3)\n",
      "2021-04-10 18:27:55.806\n",
      "Noncancer Risk (Hazard Quotient)\n",
      "2021-04-10 18:27:55.816\n",
      "Respiratory (Hazard Quotient)\n",
      "2021-04-10 18:27:55.816\n"
     ]
    }
   ],
   "source": [
    "for table in cursor.tables(tableType='TABLE'):\n",
    "    logger.info('{}'.format(table.table_name))"
   ]
  },
  {
   "cell_type": "code",
   "execution_count": 9,
   "metadata": {},
   "outputs": [],
   "source": [
    "cursor.close()"
   ]
  },
  {
   "cell_type": "markdown",
   "metadata": {},
   "source": [
    "<br>\n",
    "\n",
    "**Contents**"
   ]
  },
  {
   "cell_type": "code",
   "execution_count": 13,
   "metadata": {},
   "outputs": [],
   "source": [
    "query = \"select * from [Ambient Concentration (ug/m3)]\""
   ]
  },
  {
   "cell_type": "code",
   "execution_count": 14,
   "metadata": {},
   "outputs": [],
   "source": [
    "data = pd.read_sql(query, connection)"
   ]
  },
  {
   "cell_type": "code",
   "execution_count": 17,
   "metadata": {},
   "outputs": [
    {
     "data": {
      "text/html": [
       "<div>\n",
       "<style scoped>\n",
       "    .dataframe tbody tr th:only-of-type {\n",
       "        vertical-align: middle;\n",
       "    }\n",
       "\n",
       "    .dataframe tbody tr th {\n",
       "        vertical-align: top;\n",
       "    }\n",
       "\n",
       "    .dataframe thead th {\n",
       "        text-align: right;\n",
       "    }\n",
       "</style>\n",
       "<table border=\"1\" class=\"dataframe\">\n",
       "  <thead>\n",
       "    <tr style=\"text-align: right;\">\n",
       "      <th></th>\n",
       "      <th>State</th>\n",
       "      <th>EPA Region</th>\n",
       "      <th>County</th>\n",
       "      <th>FIPS</th>\n",
       "      <th>Tract</th>\n",
       "      <th>Population</th>\n",
       "      <th>Pollutant Name</th>\n",
       "      <th>Total Conc</th>\n",
       "      <th>PT-StationaryPoint Conc</th>\n",
       "    </tr>\n",
       "  </thead>\n",
       "  <tbody>\n",
       "    <tr>\n",
       "      <th>0</th>\n",
       "      <td>US</td>\n",
       "      <td>Entire US</td>\n",
       "      <td>Entire US</td>\n",
       "      <td>00000</td>\n",
       "      <td>00000000000</td>\n",
       "      <td>312572412</td>\n",
       "      <td>1,2-EPOXYBUTANE</td>\n",
       "      <td>2.847885e-05</td>\n",
       "      <td>2.823779e-05</td>\n",
       "    </tr>\n",
       "    <tr>\n",
       "      <th>1</th>\n",
       "      <td>AL</td>\n",
       "      <td>EPA Region 4</td>\n",
       "      <td>Entire State</td>\n",
       "      <td>01000</td>\n",
       "      <td>01000000000</td>\n",
       "      <td>4779690</td>\n",
       "      <td>1,2-EPOXYBUTANE</td>\n",
       "      <td>4.104243e-08</td>\n",
       "      <td>4.104243e-08</td>\n",
       "    </tr>\n",
       "    <tr>\n",
       "      <th>2</th>\n",
       "      <td>AL</td>\n",
       "      <td>EPA Region 4</td>\n",
       "      <td>Autauga</td>\n",
       "      <td>01001</td>\n",
       "      <td>01001000000</td>\n",
       "      <td>54571</td>\n",
       "      <td>1,2-EPOXYBUTANE</td>\n",
       "      <td>0.000000e+00</td>\n",
       "      <td>0.000000e+00</td>\n",
       "    </tr>\n",
       "    <tr>\n",
       "      <th>3</th>\n",
       "      <td>AL</td>\n",
       "      <td>EPA Region 4</td>\n",
       "      <td>Autauga</td>\n",
       "      <td>01001</td>\n",
       "      <td>01001020100</td>\n",
       "      <td>1912</td>\n",
       "      <td>1,2-EPOXYBUTANE</td>\n",
       "      <td>0.000000e+00</td>\n",
       "      <td>0.000000e+00</td>\n",
       "    </tr>\n",
       "    <tr>\n",
       "      <th>4</th>\n",
       "      <td>AL</td>\n",
       "      <td>EPA Region 4</td>\n",
       "      <td>Autauga</td>\n",
       "      <td>01001</td>\n",
       "      <td>01001020200</td>\n",
       "      <td>2170</td>\n",
       "      <td>1,2-EPOXYBUTANE</td>\n",
       "      <td>0.000000e+00</td>\n",
       "      <td>0.000000e+00</td>\n",
       "    </tr>\n",
       "  </tbody>\n",
       "</table>\n",
       "</div>"
      ],
      "text/plain": [
       "  State    EPA Region        County   FIPS        Tract  Population  \\\n",
       "0    US     Entire US     Entire US  00000  00000000000   312572412   \n",
       "1    AL  EPA Region 4  Entire State  01000  01000000000     4779690   \n",
       "2    AL  EPA Region 4       Autauga  01001  01001000000       54571   \n",
       "3    AL  EPA Region 4       Autauga  01001  01001020100        1912   \n",
       "4    AL  EPA Region 4       Autauga  01001  01001020200        2170   \n",
       "\n",
       "    Pollutant Name    Total Conc  PT-StationaryPoint Conc  \n",
       "0  1,2-EPOXYBUTANE  2.847885e-05             2.823779e-05  \n",
       "1  1,2-EPOXYBUTANE  4.104243e-08             4.104243e-08  \n",
       "2  1,2-EPOXYBUTANE  0.000000e+00             0.000000e+00  \n",
       "3  1,2-EPOXYBUTANE  0.000000e+00             0.000000e+00  \n",
       "4  1,2-EPOXYBUTANE  0.000000e+00             0.000000e+00  "
      ]
     },
     "execution_count": 17,
     "metadata": {},
     "output_type": "execute_result"
    }
   ],
   "source": [
    "data.head().iloc[:,:9]"
   ]
  },
  {
   "cell_type": "code",
   "execution_count": 18,
   "metadata": {},
   "outputs": [],
   "source": [
    "connection.close()"
   ]
  }
 ],
 "metadata": {
  "colab": {
   "collapsed_sections": [],
   "name": "concentrations.ipynb",
   "provenance": [],
   "toc_visible": true
  },
  "kernelspec": {
   "display_name": "Python 3",
   "language": "python",
   "name": "python3"
  },
  "language_info": {
   "codemirror_mode": {
    "name": "ipython",
    "version": 3
   },
   "file_extension": ".py",
   "mimetype": "text/x-python",
   "name": "python",
   "nbconvert_exporter": "python",
   "pygments_lexer": "ipython3",
   "version": "3.7.7"
  }
 },
 "nbformat": 4,
 "nbformat_minor": 4
}
